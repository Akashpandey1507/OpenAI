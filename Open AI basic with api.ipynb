{
  "cells": [
    {
      "cell_type": "code",
      "source": [
        "import openai #Import libraries"
      ],
      "metadata": {
        "id": "uZbev1qqQdRc"
      },
      "execution_count": 81,
      "outputs": []
    },
    {
      "cell_type": "code",
      "source": [
        "api = \"sk-xxxxxxxxxxx\" # put your API"
      ],
      "metadata": {
        "id": "Yb5dyE5VvFzF"
      },
      "execution_count": 82,
      "outputs": []
    },
    {
      "cell_type": "code",
      "source": [
        "openai.api_key = api # call api\n"
      ],
      "metadata": {
        "id": "wtVGGeGEQdOz"
      },
      "execution_count": 83,
      "outputs": []
    },
    {
      "cell_type": "code",
      "source": [
        "# Create the function for ask a questions.\n",
        "\n",
        "\n",
        "def ask(msg):\n",
        "  response = openai.Completion.create(\n",
        "      engine=\"text-davinci-002\",  # This is the GPT-3.5 engine name\n",
        "      prompt=msg,  # The starting text for the model to continue\n",
        "      max_tokens=100  # The maximum number of tokens to generate in the output\n",
        "  )\n",
        "  generated_text = response['choices'][0]['text']\n",
        "  return generated_text.strip()\n",
        "\n"
      ],
      "metadata": {
        "id": "PKxm6FFcQdMD"
      },
      "execution_count": 84,
      "outputs": []
    },
    {
      "cell_type": "code",
      "source": [
        "print(ask('Hi How are you?')) # asking a questions"
      ],
      "metadata": {
        "id": "5RqRRDHNQdGr",
        "outputId": "0136350d-064f-49b3-b919-7b74ad7fb728",
        "colab": {
          "base_uri": "https://localhost:8080/"
        }
      },
      "execution_count": 85,
      "outputs": [
        {
          "output_type": "stream",
          "name": "stdout",
          "text": [
            "Good. How are you?\n"
          ]
        }
      ]
    },
    {
      "cell_type": "code",
      "source": [
        "ask('what is chat gpt?') # answer"
      ],
      "metadata": {
        "id": "NEbjyCg2QdD8",
        "outputId": "232eb491-a5a1-45a4-ff58-ae4f1cfff3c7",
        "colab": {
          "base_uri": "https://localhost:8080/",
          "height": 53
        }
      },
      "execution_count": 86,
      "outputs": [
        {
          "output_type": "execute_result",
          "data": {
            "text/plain": [
              "'There is no such thing as a \"chat GPT.\" GPT stands for \"get paid to,\" so a chat GPT would be a program that pays you to chat. There are many ways to make money online, but there is no one program that will pay you simply to chat. If you\\'re looking for ways to make money online, you might consider freelance writing, online surveys, or even starting your own blog.'"
            ],
            "application/vnd.google.colaboratory.intrinsic+json": {
              "type": "string"
            }
          },
          "metadata": {},
          "execution_count": 86
        }
      ]
    },
    {
      "cell_type": "code",
      "source": [
        "ask('What can you do here for me')"
      ],
      "metadata": {
        "id": "qJGqlbLDyt2N",
        "outputId": "e705e36d-c1bf-4072-b994-ff8c4d6903f0",
        "colab": {
          "base_uri": "https://localhost:8080/",
          "height": 53
        }
      },
      "execution_count": 89,
      "outputs": [
        {
          "output_type": "execute_result",
          "data": {
            "text/plain": [
              "'There are many things that can be done for you at this website. You can find information on a variety of topics, ask questions and get answers from experts, and find resources and tools to help you with a variety of tasks.'"
            ],
            "application/vnd.google.colaboratory.intrinsic+json": {
              "type": "string"
            }
          },
          "metadata": {},
          "execution_count": 89
        }
      ]
    },
    {
      "cell_type": "code",
      "source": [
        "ask('Can you tell what kind of ebidta')"
      ],
      "metadata": {
        "id": "Wk77Sur4ytzV",
        "outputId": "ed2cf74b-1290-41e9-e5f8-0f2c91f2fe37",
        "colab": {
          "base_uri": "https://localhost:8080/",
          "height": 35
        }
      },
      "execution_count": 90,
      "outputs": [
        {
          "output_type": "execute_result",
          "data": {
            "text/plain": [
              "'growth our company will have?\\n\\nI cannot accurately predict the ebidta growth of your company without more information.'"
            ],
            "application/vnd.google.colaboratory.intrinsic+json": {
              "type": "string"
            }
          },
          "metadata": {},
          "execution_count": 90
        }
      ]
    },
    {
      "cell_type": "code",
      "source": [
        "ask('i know this you cant pridict abut my company whithout more information')"
      ],
      "metadata": {
        "id": "cwZE2glay88i",
        "outputId": "ce079f7d-85bf-48f7-ef68-fbb51a22e2c5",
        "colab": {
          "base_uri": "https://localhost:8080/",
          "height": 35
        }
      },
      "execution_count": 92,
      "outputs": [
        {
          "output_type": "execute_result",
          "data": {
            "text/plain": [
              "'This is difficult to answer without knowing more about your company.'"
            ],
            "application/vnd.google.colaboratory.intrinsic+json": {
              "type": "string"
            }
          },
          "metadata": {},
          "execution_count": 92
        }
      ]
    }
  ],
  "metadata": {
    "colab": {
      "name": "Welcome to Colaboratory",
      "provenance": []
    },
    "kernelspec": {
      "display_name": "Python 3",
      "name": "python3"
    }
  },
  "nbformat": 4,
  "nbformat_minor": 0
}